{
  "cells": [
    {
      "metadata": {
        "collapsed": true,
        "trusted": true,
        "_uuid": "7d0df1f02531e5600f0d262fe9910cfc0045399b"
      },
      "cell_type": "code",
      "source": "import numpy as np\nimport pandas as pd\nimport lightgbm as gbm\n",
      "execution_count": null,
      "outputs": []
    },
    {
      "metadata": {
        "trusted": true,
        "_uuid": "848a9f0745a61a065c6f600ab4daea263b6b4bdf",
        "collapsed": true
      },
      "cell_type": "code",
      "source": "train = pd.read_csv(\"../input/application_train.csv\") \ntest = pd.read_csv('../input/application_test.csv')\nbureau = pd.read_csv('../input/bureau.csv')\nbureau_balance = pd.read_csv('../input/bureau_balance.csv')\ncredit_card_balance = pd.read_csv('../input/credit_card_balance.csv')\npos_cash_balance = pd.read_csv('../input/POS_CASH_balance.csv')\nprevious_applications = pd.read_csv('../input/previous_application.csv')\n\n    ",
      "execution_count": null,
      "outputs": []
    },
    {
      "metadata": {
        "trusted": true,
        "_uuid": "a0076c83e873280205eea3f43e42ee79259b7a87",
        "collapsed": true
      },
      "cell_type": "code",
      "source": "train.head()",
      "execution_count": null,
      "outputs": []
    },
    {
      "metadata": {
        "trusted": true,
        "_uuid": "ca8cd9daafb3fe21629d2a504c046480f02eb82c",
        "collapsed": true
      },
      "cell_type": "code",
      "source": "bureau.head()",
      "execution_count": null,
      "outputs": []
    },
    {
      "metadata": {
        "trusted": true,
        "_uuid": "53350d3742d73243daa0b8668bef7c258e630c31",
        "collapsed": true
      },
      "cell_type": "code",
      "source": "bureau_balance.head()",
      "execution_count": null,
      "outputs": []
    },
    {
      "metadata": {
        "trusted": true,
        "_uuid": "a3c5d4e95169e32ddcd078cffd0482e6100be9c0",
        "collapsed": true
      },
      "cell_type": "code",
      "source": "credit_card_balance.head()",
      "execution_count": null,
      "outputs": []
    },
    {
      "metadata": {
        "trusted": true,
        "_uuid": "e8c210ed71c6c9bf7da54ecf538a92dd6d3d92a0",
        "collapsed": true
      },
      "cell_type": "code",
      "source": "pos_cash_balance.head()",
      "execution_count": null,
      "outputs": []
    },
    {
      "metadata": {
        "trusted": true,
        "_uuid": "3e95326b61ed590f685b0aa854c2dfcf7431d6d4",
        "collapsed": true
      },
      "cell_type": "code",
      "source": "previous_applications.head()",
      "execution_count": null,
      "outputs": []
    },
    {
      "metadata": {
        "trusted": true,
        "_uuid": "270a58004513e7350c79abe7b05d334e985e73a0",
        "collapsed": true
      },
      "cell_type": "code",
      "source": "from sklearn.preprocessing import LabelEncoder\n\ndef encoding_missing_values(df):\n    label_encoder = LabelEncoder()\n    categorical_variables = df.select_dtypes('object').columns.tolist()\n    for column in categorical_variables:\n        df[column] = label_encoder.fit_transform(df[column].astype(str))\n    numerical_variables=df.select_dtypes(['float64','int64']).columns.tolist()\n    df[numerical_variables]= df[numerical_variables].fillna(0)\n    return df\n    ",
      "execution_count": null,
      "outputs": []
    },
    {
      "metadata": {
        "trusted": true,
        "collapsed": true,
        "_uuid": "4dade38d4bf18fbf1f96a03d557ed68f296b52f0"
      },
      "cell_type": "code",
      "source": "train_shape = train.shape[0]\ntarget = train.TARGET.copy()\ntrain = train.drop(labels = ['TARGET'], axis = 1)\n\ntrain = encoding_missing_values(train)\ntest = encoding_missing_values(test)\nbureau = encoding_missing_values(bureau)\nbureau_balance = encoding_missing_values(bureau_balance)\ncredit_card_balance = encoding_missing_values(credit_card_balance)\npos_cash_balance = encoding_missing_values(pos_cash_balance)\nprevious_applications = encoding_missing_values(previous_applications)",
      "execution_count": null,
      "outputs": []
    },
    {
      "metadata": {
        "trusted": true,
        "_uuid": "a7b0d35f51c41d036bc1bc6968c491053059c0f7",
        "collapsed": true
      },
      "cell_type": "code",
      "source": "bureau_labels=[n+'_'+l for n in bureau.columns.tolist() if n!='SK_ID_CURR' for l in ['mean','count','median','max']]\nbureau_stats=bureau.groupby('SK_ID_CURR').agg(['mean','count','median','max']).reset_index()\nbureau_stats.columns=['SK_ID_CURR']+bureau_labels\nbureau_stats.head()",
      "execution_count": null,
      "outputs": []
    },
    {
      "metadata": {
        "trusted": true,
        "_uuid": "b072dc66eb741bd564619ea2d7536772aa7f032a",
        "collapsed": true
      },
      "cell_type": "code",
      "source": "credit_card_balance_labels=[n+'_'+l for n in credit_card_balance.columns.tolist() if n!='SK_ID_CURR' for l in ['mean','count','median','max']]\ncredit_card_stats=credit_card_balance.groupby('SK_ID_CURR').agg(['mean','count','median','max']).reset_index()\ncredit_card_stats.columns=['SK_ID_CURR']+credit_card_balance_labels\ncredit_card_stats.head()",
      "execution_count": null,
      "outputs": []
    },
    {
      "metadata": {
        "trusted": true,
        "_uuid": "d13c0be87e50046f067f9215a66b05cb73949b25",
        "collapsed": true
      },
      "cell_type": "code",
      "source": "pos_cash_balance_labels=[n+'_'+l for n in pos_cash_balance.columns.tolist() if n!='SK_ID_CURR' for l in ['mean','count','median','max']]\npos_cash_stats=pos_cash_balance.groupby('SK_ID_CURR').agg(['mean','count','median','max']).reset_index()\npos_cash_stats.columns=['SK_ID_CURR']+ pos_cash_balance_labels\npos_cash_stats.head()",
      "execution_count": null,
      "outputs": []
    },
    {
      "metadata": {
        "trusted": true,
        "_uuid": "7927bb88a6a30af60d1520d53ce23b74fc363033",
        "collapsed": true
      },
      "cell_type": "code",
      "source": "previous_applications_labels=[n+'_'+l for n in previous_applications.columns.tolist() if n!='SK_ID_CURR' for l in ['mean','count','median','max']]\nprevious_applications_stats=previous_applications.groupby('SK_ID_CURR').agg(['mean','count','median','max']).reset_index()\nprevious_applications_stats.columns=['SK_ID_CURR']+ previous_applications_labels\nprevious_applications_stats.head()",
      "execution_count": null,
      "outputs": []
    },
    {
      "metadata": {
        "trusted": true,
        "_uuid": "dcc83e551653c2cddae68722d7e7265992b1cc1f",
        "collapsed": true
      },
      "cell_type": "code",
      "source": "train.head()",
      "execution_count": null,
      "outputs": []
    },
    {
      "metadata": {
        "trusted": true,
        "_uuid": "43d9bd1f47051c42f224c7f5dbe9847268ab0814",
        "collapsed": true
      },
      "cell_type": "code",
      "source": "train_test_combo = (train.append(test).merge(bureau_stats, on = 'SK_ID_CURR', how = 'left')\n                                       .merge(credit_card_stats, on = 'SK_ID_CURR', how = 'left')\n                                        .merge(pos_cash_stats, on = 'SK_ID_CURR', how = 'left')\n                                        .merge(previous_applications_stats, on = 'SK_ID_CURR', how = 'left'))",
      "execution_count": null,
      "outputs": []
    },
    {
      "metadata": {
        "trusted": true,
        "_uuid": "0aeb49d6de0295321254a300524a8e1959b341d4",
        "collapsed": true
      },
      "cell_type": "code",
      "source": "train_test_combo.head()",
      "execution_count": null,
      "outputs": []
    },
    {
      "metadata": {
        "trusted": true,
        "_uuid": "9eeefc29a080cb239bda7aaa101dcb9f753f4552",
        "collapsed": true
      },
      "cell_type": "code",
      "source": "train_test_combo.drop(labels=['SK_ID_CURR'],axis=1,inplace=True)",
      "execution_count": null,
      "outputs": []
    },
    {
      "metadata": {
        "collapsed": true,
        "trusted": true,
        "_uuid": "45362febb8262ac484a4a6c31d73e2149341849f"
      },
      "cell_type": "code",
      "source": "train_df = train_test_combo.iloc[:train_shape,:]\ntest_df = train_test_combo.iloc[train_shape:,:]",
      "execution_count": null,
      "outputs": []
    },
    {
      "metadata": {
        "trusted": true,
        "_uuid": "af1ba3c327c4c02ddcd7bf098a22e08b1760781a",
        "collapsed": true
      },
      "cell_type": "code",
      "source": "param = {'objective' : 'binary',\n          'boosting_type': 'gbdt',\n          'metric' : 'auc',\n          'nthread' : 4,\n          'shrinkage_rate':0.025,\n          'max_depth':8,\n          'min_data_in_leaf':100,\n          'min_child_weight': 2,\n          'bagging_fraction':0.75,\n          'feature_fraction':0.75,\n          'min_split_gain':.01,\n          'lambda_l1':1,\n          'lambda_l2':1,\n          'num_leaves':36}    \n\n\n\n",
      "execution_count": null,
      "outputs": []
    },
    {
      "metadata": {
        "trusted": true,
        "_uuid": "3e5eacc9dca3505fbc9adf1af9047c435d236206",
        "collapsed": true
      },
      "cell_type": "code",
      "source": "from sklearn.model_selection import train_test_split\ntrain_x, valid_x, train_y, valid_y = train_test_split(train_df, target, test_size=0.2, shuffle=True)",
      "execution_count": null,
      "outputs": []
    },
    {
      "metadata": {
        "trusted": true,
        "_uuid": "435026bfebdb8734b676fb22e92dec64516531a3",
        "collapsed": true
      },
      "cell_type": "code",
      "source": "train_data=gbm.Dataset(train_x,label=train_y)\nvalid_data=gbm.Dataset(valid_x,label=valid_y)",
      "execution_count": null,
      "outputs": []
    },
    {
      "metadata": {
        "trusted": true,
        "_uuid": "d120db2997f2cc1db53e3ecf6231d9d58f3457f3",
        "collapsed": true
      },
      "cell_type": "code",
      "source": "lgbm = gbm.train(param,\n                 train_data,\n                 1000,\n                 valid_sets=valid_data,\n                 early_stopping_rounds= 100,\n                 verbose_eval= 10\n                 )",
      "execution_count": null,
      "outputs": []
    },
    {
      "metadata": {
        "trusted": true,
        "_uuid": "e7b767156283bd38ec74d2f5448ff7487e083218",
        "collapsed": true
      },
      "cell_type": "code",
      "source": "from sklearn.metrics import roc_auc_score\ntrain_y_lgb = lgbm.predict(train_x)\nval_y_lgb = lgbm.predict(valid_x)\nprint(\"ROC for Train ROC\" , roc_auc_score(train_y,train_y_lgb))\nprint(\"ROC for Validation ROC\",roc_auc_score(valid_y,val_y_lgb))\n",
      "execution_count": null,
      "outputs": []
    },
    {
      "metadata": {
        "trusted": true,
        "_uuid": "d1a8b2e3dae9239215da820f7abc83a1ebd73496",
        "collapsed": true
      },
      "cell_type": "code",
      "source": "predictions = lgbm.predict(test_df)\nsubmission = pd.read_csv('../input/sample_submission.csv')\n\n\nsubmission.TARGET = predictions\n\nsubmission.to_csv('lgbm_submission.csv', index=False)",
      "execution_count": null,
      "outputs": []
    },
    {
      "metadata": {
        "trusted": true,
        "collapsed": true,
        "_uuid": "1de5fdc04e882fd25805e50a5ddf5fa7c89bb209"
      },
      "cell_type": "code",
      "source": "",
      "execution_count": null,
      "outputs": []
    }
  ],
  "metadata": {
    "kernelspec": {
      "display_name": "Python 3",
      "language": "python",
      "name": "python3"
    },
    "language_info": {
      "name": "python",
      "version": "3.6.6",
      "mimetype": "text/x-python",
      "codemirror_mode": {
        "name": "ipython",
        "version": 3
      },
      "pygments_lexer": "ipython3",
      "nbconvert_exporter": "python",
      "file_extension": ".py"
    }
  },
  "nbformat": 4,
  "nbformat_minor": 1
}